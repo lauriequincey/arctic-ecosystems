{
 "cells": [
  {
   "cell_type": "markdown",
   "metadata": {},
   "source": [
    "# Libraries"
   ]
  },
  {
   "cell_type": "code",
   "execution_count": 53,
   "metadata": {},
   "outputs": [],
   "source": [
    "# General\n",
    "import pandas as pd\n",
    "import numpy as np\n",
    "\n",
    "# Data Management\n",
    "from dataclasses import dataclass, field\n",
    "from collections import namedtuple\n",
    "from typing import List, Any\n",
    "\n",
    "# Graphing\n",
    "import matplotlib.pyplot as plt\n",
    "import matplotlib.dates as mdates\n",
    "\n",
    "# So that pandas .dt.time series can play nice with matploblib\n",
    "import datetime\n",
    "\n",
    "# Random Forest\n",
    "from sklearn.ensemble import RandomForestRegressor\n",
    "from sklearn.model_selection import train_test_split\n",
    "from sklearn.metrics import mean_squared_error, r2_score"
   ]
  },
  {
   "cell_type": "markdown",
   "metadata": {},
   "source": [
    "# Aesthetics"
   ]
  },
  {
   "cell_type": "code",
   "execution_count": null,
   "metadata": {},
   "outputs": [],
   "source": [
    "scaler = 2\n",
    "fig_wide = 6.267717 * scaler # width of a4 minus 2.54cm margins either side then x by scaler to scale everything\"s size easily\n",
    "fig_gold = 1.618"
   ]
  },
  {
   "cell_type": "markdown",
   "metadata": {},
   "source": [
    "# Data Import"
   ]
  },
  {
   "cell_type": "markdown",
   "metadata": {},
   "source": [
    "## Functions"
   ]
  },
  {
   "cell_type": "code",
   "execution_count": null,
   "metadata": {},
   "outputs": [],
   "source": [
    "# Convert timestamps to datetimes\n",
    "def convert_time(dataframe, column, format = None, unit = None, new_name = \"Time (Datetime)\"):\n",
    "    dataframe[column] = pd.to_datetime(dataframe[column], format = format, unit = unit)\n",
    "    dataframe.rename(columns = {column: new_name}, inplace = True)\n",
    "\n",
    "# Clean data\n",
    "def cleaner(dataframe, variable_name):\n",
    "    dataframe[variable_name] = dataframe[variable_name].replace([-9999.0], np.nan) # Replace visible/known missing values\n",
    "    dataframe = dataframe.reindex(pd.date_range(start = dataframe.index[0], end = dataframe.index[-1], freq = \"30min\")) # Reindex to deal with hidden missing values\n",
    "    #dataframe.index.name = \"date\" # put the name of the index column back!\n",
    "    dataframe = dataframe[[variable_name]].copy() # Select Variables\n",
    "    return dataframe"
   ]
  },
  {
   "cell_type": "markdown",
   "metadata": {},
   "source": [
    "## Data"
   ]
  },
  {
   "cell_type": "markdown",
   "metadata": {},
   "source": [
    "Declare my dataclass to contain my data"
   ]
  },
  {
   "cell_type": "code",
   "execution_count": 88,
   "metadata": {},
   "outputs": [],
   "source": [
    "# Namedtuple type to store coordinates\n",
    "coordinates = namedtuple(\"coordinates\", [\"x\", \"y\"])\n",
    "\n",
    "# Dataclass to contain...\n",
    "@dataclass\n",
    "class metadata:\n",
    "    coords: coordinates\n",
    "    elevation: int\n",
    "    desc: str\n",
    "\n",
    "@dataclass\n",
    "class aesthetics:\n",
    "    longnames: dict\n",
    "    units: dict\n",
    "    colours: dict\n",
    "    \n",
    "@dataclass\n",
    "class datatables:\n",
    "    flux: pd.DataFrame\n",
    "    satellite: pd.DataFrame\n",
    "    paired: pd.DataFrame\n",
    "\n",
    "# Dataclass to contain my data\n",
    "@dataclass\n",
    "class location:\n",
    "    name: str\n",
    "    origin: str\n",
    "    data: datatables\n",
    "    stats: dict\n",
    "    meta: metadata\n",
    "    aes: aesthetics"
   ]
  },
  {
   "cell_type": "code",
   "execution_count": null,
   "metadata": {},
   "outputs": [],
   "source": [
    "# Generalized filter function\n",
    "def filter_by(objects: List[Any], attribute: str, value: Any) -> List[Any]:\n",
    "    \"\"\"\n",
    "    Filters a list of objects based on a specific attribute and its value.\n",
    "    Works recursively for nested dataclass attributes.\n",
    "\n",
    "    :param objects: List of dataclass instances to filter.\n",
    "    :param attribute: Attribute name to filter by (supports nested attributes using dot notation).\n",
    "    :param value: The value to match for the specified attribute.\n",
    "    :return: List of objects where the attribute matches the value.\n",
    "    \"\"\"\n",
    "    def get_nested_attr(obj: Any, attribute: str) -> Any:\n",
    "        \"\"\"\n",
    "        Recursively retrieves the value of a nested attribute using dot notation.\n",
    "        \"\"\"\n",
    "        attributes = attribute.split('.')  # Split by dot notation if nested\n",
    "        for attr in attributes:\n",
    "            obj = getattr(obj, attr, None)\n",
    "            if obj is None:\n",
    "                return None\n",
    "        return obj\n",
    "\n",
    "    return [obj for obj in objects if get_nested_attr(obj, attribute) == value]\n",
    "\n",
    "# e.g. filter_by(data, \"meta.coords.x\", 19.04520892)"
   ]
  },
  {
   "cell_type": "code",
   "execution_count": 93,
   "metadata": {},
   "outputs": [],
   "source": [
    "se_sto = location(\n",
    "    name = \"Abisko-Stordalen Palsa Bog\",\n",
    "    origin = \"flux\",\n",
    "    data = datatables(\n",
    "        flux = pd.DataFrame(),\n",
    "        satellite = pd.DataFrame(),\n",
    "        paired = pd.DataFrame(),\n",
    "    ),\n",
    "    stats = {},\n",
    "    meta = metadata(\n",
    "        coords = coordinates(19.04520892, 68.35594288),\n",
    "        elevation = int,\n",
    "        desc = \"Flux tower eddy-covariance data\",\n",
    "    ),\n",
    "    aes = aesthetics(\n",
    "        longnames = {},\n",
    "        units = {},\n",
    "        colours = {},\n",
    "    ),\n",
    ")\n",
    "\n",
    "data = [se_sto]"
   ]
  },
  {
   "cell_type": "code",
   "execution_count": 86,
   "metadata": {},
   "outputs": [
    {
     "data": {
      "text/plain": [
       "19.04520892"
      ]
     },
     "execution_count": 86,
     "metadata": {},
     "output_type": "execute_result"
    }
   ],
   "source": [
    "se_sto.meta.coords.x"
   ]
  },
  {
   "cell_type": "code",
   "execution_count": null,
   "metadata": {},
   "outputs": [
    {
     "data": {
      "text/plain": [
       "[location(name='Abisko-Stordalen Palsa Bog', origin='flux', data=datatables(flux=Empty DataFrame\n",
       " Columns: []\n",
       " Index: [], satellite=Empty DataFrame\n",
       " Columns: []\n",
       " Index: [], paired=Empty DataFrame\n",
       " Columns: []\n",
       " Index: []), stats={}, meta=metadata(coords=coordinates(x=19.04520892, y=68.35594288), elevation=<class 'int'>, desc='Flux tower eddy-covariance data'), aes=aesthetics(longnames={}, units={}, colours={}))]"
      ]
     },
     "execution_count": 97,
     "metadata": {},
     "output_type": "execute_result"
    }
   ],
   "source": []
  },
  {
   "cell_type": "code",
   "execution_count": null,
   "metadata": {},
   "outputs": [],
   "source": []
  }
 ],
 "metadata": {
  "kernelspec": {
   "display_name": ".venv",
   "language": "python",
   "name": "python3"
  },
  "language_info": {
   "codemirror_mode": {
    "name": "ipython",
    "version": 3
   },
   "file_extension": ".py",
   "mimetype": "text/x-python",
   "name": "python",
   "nbconvert_exporter": "python",
   "pygments_lexer": "ipython3",
   "version": "3.13.1"
  }
 },
 "nbformat": 4,
 "nbformat_minor": 2
}
