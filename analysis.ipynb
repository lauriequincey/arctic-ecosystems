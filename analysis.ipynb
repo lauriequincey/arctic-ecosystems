{
 "cells": [
  {
   "cell_type": "markdown",
   "metadata": {},
   "source": [
    "# Libraries"
   ]
  },
  {
   "cell_type": "code",
   "execution_count": 2,
   "metadata": {},
   "outputs": [],
   "source": [
    "# General\n",
    "import pandas as pd\n",
    "import numpy as np\n",
    "\n",
    "# Data Management\n",
    "from dataclasses import dataclass, field\n",
    "from collections import namedtuple\n",
    "import pickle"
   ]
  },
  {
   "cell_type": "markdown",
   "metadata": {},
   "source": [
    "# Import"
   ]
  },
  {
   "cell_type": "markdown",
   "metadata": {},
   "source": [
    "Declare Data Structures to hold our data"
   ]
  },
  {
   "cell_type": "code",
   "execution_count": 3,
   "metadata": {},
   "outputs": [],
   "source": [
    "coordinates = namedtuple(\"coordinates\", [\"lat\", \"lon\"])\n",
    "\n",
    "@dataclass\n",
    "class class_data:\n",
    "    name: str\n",
    "    fluxsat: pd.DataFrame\n",
    "    climate: pd.DataFrame\n",
    "    stats: dict\n",
    "    coords: coordinates\n",
    "\n",
    "@dataclass\n",
    "class aes:\n",
    "    units: dict\n",
    "    longnames: dict\n",
    "    abbreviations: dict\n",
    "    colours: dict"
   ]
  },
  {
   "cell_type": "markdown",
   "metadata": {},
   "source": [
    "Populate data structures"
   ]
  },
  {
   "cell_type": "code",
   "execution_count": null,
   "metadata": {},
   "outputs": [],
   "source": [
    "# Populate site-specific data structure\n",
    "df_loc = {\n",
    "    \"se_sto\": class_data(\n",
    "        name = \"Abisko-Stordalen Palsa Bog\",\n",
    "        fluxsat = pd.DataFrame(),\n",
    "        climate = pd.DataFrame(),\n",
    "        stats = {},\n",
    "        coords = coordinates(68.35594288, 19.04520892),\n",
    "    ),\n",
    "    \"fi_ken\": class_data(\n",
    "        name = \"Kenttärova\",\n",
    "        fluxsat = pd.DataFrame(),\n",
    "        climate = pd.DataFrame(),\n",
    "        stats = {},\n",
    "        coords = coordinates(67.98721, 24.24301),\n",
    "    ),\n",
    "    \"fi_sod\": class_data(\n",
    "        name = \"Sodankylä\",\n",
    "        fluxsat = pd.DataFrame(),\n",
    "        climate = pd.DataFrame(),\n",
    "        stats = {},\n",
    "        coords = coordinates(67.36239, 26.63859),\n",
    "    ),\n",
    "    \"fi_var\": class_data(\n",
    "        name = \"Varrio\",\n",
    "        fluxsat = pd.DataFrame(),\n",
    "        climate = pd.DataFrame(),\n",
    "        stats = {},\n",
    "        coords = coordinates(67.7549, 29.61),\n",
    "    )\n",
    "}\n",
    "\n",
    "# Read in site-specific datatables\n",
    "for key, item in df_loc.items():\n",
    "    item.fluxsat = pd.read_csv(f\"../data/processed/{key}_fluxsat.csv\", index_col = 0)\n",
    "    item.climate = pd.read_csv(f\"../data/processed/{key}_climate.csv\", index_col = 0)"
   ]
  },
  {
   "cell_type": "code",
   "execution_count": 16,
   "metadata": {},
   "outputs": [
    {
     "data": {
      "text/html": [
       "<div>\n",
       "<style scoped>\n",
       "    .dataframe tbody tr th:only-of-type {\n",
       "        vertical-align: middle;\n",
       "    }\n",
       "\n",
       "    .dataframe tbody tr th {\n",
       "        vertical-align: top;\n",
       "    }\n",
       "\n",
       "    .dataframe thead th {\n",
       "        text-align: right;\n",
       "    }\n",
       "</style>\n",
       "<table border=\"1\" class=\"dataframe\">\n",
       "  <thead>\n",
       "    <tr style=\"text-align: right;\">\n",
       "      <th></th>\n",
       "      <th>datetime</th>\n",
       "      <th>day_of_year</th>\n",
       "      <th>time_of_day</th>\n",
       "      <th>gppe</th>\n",
       "      <th>swce</th>\n",
       "    </tr>\n",
       "  </thead>\n",
       "  <tbody>\n",
       "    <tr>\n",
       "      <th>1981-07-26 03:20:51.529411682</th>\n",
       "      <td>1981-07-26 03:20:51.529411682</td>\n",
       "      <td>207</td>\n",
       "      <td>2025-05-15 03:20:51.529411</td>\n",
       "      <td>2.417515</td>\n",
       "      <td>9.834162</td>\n",
       "    </tr>\n",
       "    <tr>\n",
       "      <th>1981-08-21 12:56:24.000000000</th>\n",
       "      <td>1981-08-21 12:56:24.000000000</td>\n",
       "      <td>233</td>\n",
       "      <td>2025-05-15 12:56:24.000000</td>\n",
       "      <td>2.758144</td>\n",
       "      <td>9.755122</td>\n",
       "    </tr>\n",
       "    <tr>\n",
       "      <th>1981-09-04 13:39:36.000000000</th>\n",
       "      <td>1981-09-04 13:39:36.000000000</td>\n",
       "      <td>247</td>\n",
       "      <td>2025-05-15 13:39:36.000000</td>\n",
       "      <td>1.546780</td>\n",
       "      <td>10.213472</td>\n",
       "    </tr>\n",
       "    <tr>\n",
       "      <th>1981-09-08 12:53:24.000000000</th>\n",
       "      <td>1981-09-08 12:53:24.000000000</td>\n",
       "      <td>251</td>\n",
       "      <td>2025-05-15 12:53:24.000000</td>\n",
       "      <td>1.820904</td>\n",
       "      <td>10.253892</td>\n",
       "    </tr>\n",
       "    <tr>\n",
       "      <th>1981-09-13 13:37:48.000000000</th>\n",
       "      <td>1981-09-13 13:37:48.000000000</td>\n",
       "      <td>256</td>\n",
       "      <td>2025-05-15 13:37:48.000000</td>\n",
       "      <td>1.691738</td>\n",
       "      <td>9.080672</td>\n",
       "    </tr>\n",
       "    <tr>\n",
       "      <th>...</th>\n",
       "      <td>...</td>\n",
       "      <td>...</td>\n",
       "      <td>...</td>\n",
       "      <td>...</td>\n",
       "      <td>...</td>\n",
       "    </tr>\n",
       "    <tr>\n",
       "      <th>2025-05-04 10:52:09.067000000</th>\n",
       "      <td>2025-05-04 10:52:09.067000000</td>\n",
       "      <td>124</td>\n",
       "      <td>2025-05-15 10:52:09.067000</td>\n",
       "      <td>0.155096</td>\n",
       "      <td>31.320820</td>\n",
       "    </tr>\n",
       "    <tr>\n",
       "      <th>2025-05-06 10:41:49.113000000</th>\n",
       "      <td>2025-05-06 10:41:49.113000000</td>\n",
       "      <td>126</td>\n",
       "      <td>2025-05-15 10:41:49.113000</td>\n",
       "      <td>0.116298</td>\n",
       "      <td>38.090785</td>\n",
       "    </tr>\n",
       "    <tr>\n",
       "      <th>2025-05-06 10:41:52.945000000</th>\n",
       "      <td>2025-05-06 10:41:52.945000000</td>\n",
       "      <td>126</td>\n",
       "      <td>2025-05-15 10:41:52.945000</td>\n",
       "      <td>0.110607</td>\n",
       "      <td>37.900843</td>\n",
       "    </tr>\n",
       "    <tr>\n",
       "      <th>2025-05-06 10:51:56.778000000</th>\n",
       "      <td>2025-05-06 10:51:56.778000000</td>\n",
       "      <td>126</td>\n",
       "      <td>2025-05-15 10:51:56.778000</td>\n",
       "      <td>0.141514</td>\n",
       "      <td>33.525374</td>\n",
       "    </tr>\n",
       "    <tr>\n",
       "      <th>2025-05-06 10:52:00.806000000</th>\n",
       "      <td>2025-05-06 10:52:00.806000000</td>\n",
       "      <td>126</td>\n",
       "      <td>2025-05-15 10:52:00.806000</td>\n",
       "      <td>0.123747</td>\n",
       "      <td>33.244094</td>\n",
       "    </tr>\n",
       "  </tbody>\n",
       "</table>\n",
       "<p>8532 rows × 5 columns</p>\n",
       "</div>"
      ],
      "text/plain": [
       "                                                    datetime  day_of_year  \\\n",
       "1981-07-26 03:20:51.529411682  1981-07-26 03:20:51.529411682          207   \n",
       "1981-08-21 12:56:24.000000000  1981-08-21 12:56:24.000000000          233   \n",
       "1981-09-04 13:39:36.000000000  1981-09-04 13:39:36.000000000          247   \n",
       "1981-09-08 12:53:24.000000000  1981-09-08 12:53:24.000000000          251   \n",
       "1981-09-13 13:37:48.000000000  1981-09-13 13:37:48.000000000          256   \n",
       "...                                                      ...          ...   \n",
       "2025-05-04 10:52:09.067000000  2025-05-04 10:52:09.067000000          124   \n",
       "2025-05-06 10:41:49.113000000  2025-05-06 10:41:49.113000000          126   \n",
       "2025-05-06 10:41:52.945000000  2025-05-06 10:41:52.945000000          126   \n",
       "2025-05-06 10:51:56.778000000  2025-05-06 10:51:56.778000000          126   \n",
       "2025-05-06 10:52:00.806000000  2025-05-06 10:52:00.806000000          126   \n",
       "\n",
       "                                              time_of_day      gppe       swce  \n",
       "1981-07-26 03:20:51.529411682  2025-05-15 03:20:51.529411  2.417515   9.834162  \n",
       "1981-08-21 12:56:24.000000000  2025-05-15 12:56:24.000000  2.758144   9.755122  \n",
       "1981-09-04 13:39:36.000000000  2025-05-15 13:39:36.000000  1.546780  10.213472  \n",
       "1981-09-08 12:53:24.000000000  2025-05-15 12:53:24.000000  1.820904  10.253892  \n",
       "1981-09-13 13:37:48.000000000  2025-05-15 13:37:48.000000  1.691738   9.080672  \n",
       "...                                                   ...       ...        ...  \n",
       "2025-05-04 10:52:09.067000000  2025-05-15 10:52:09.067000  0.155096  31.320820  \n",
       "2025-05-06 10:41:49.113000000  2025-05-15 10:41:49.113000  0.116298  38.090785  \n",
       "2025-05-06 10:41:52.945000000  2025-05-15 10:41:52.945000  0.110607  37.900843  \n",
       "2025-05-06 10:51:56.778000000  2025-05-15 10:51:56.778000  0.141514  33.525374  \n",
       "2025-05-06 10:52:00.806000000  2025-05-15 10:52:00.806000  0.123747  33.244094  \n",
       "\n",
       "[8532 rows x 5 columns]"
      ]
     },
     "execution_count": 16,
     "metadata": {},
     "output_type": "execute_result"
    }
   ],
   "source": [
    "df_loc[\"se_sto\"].fluxsat"
   ]
  },
  {
   "cell_type": "markdown",
   "metadata": {},
   "source": [
    "# Normality"
   ]
  },
  {
   "cell_type": "markdown",
   "metadata": {},
   "source": []
  },
  {
   "cell_type": "markdown",
   "metadata": {},
   "source": [
    "# Statistics"
   ]
  },
  {
   "cell_type": "markdown",
   "metadata": {},
   "source": [
    "1. GPP correlate with SWC\n",
    "2. GPP correlate with climate variables\n",
    "3. NOA/AO correlate with climate variables\n",
    "4. NOA/AO correlate with GPP"
   ]
  },
  {
   "cell_type": "code",
   "execution_count": null,
   "metadata": {},
   "outputs": [],
   "source": []
  },
  {
   "cell_type": "markdown",
   "metadata": {},
   "source": [
    "# Figures"
   ]
  },
  {
   "cell_type": "markdown",
   "metadata": {},
   "source": [
    "Save to: \"../figures/\""
   ]
  },
  {
   "cell_type": "markdown",
   "metadata": {},
   "source": []
  }
 ],
 "metadata": {
  "kernelspec": {
   "display_name": ".venv",
   "language": "python",
   "name": "python3"
  },
  "language_info": {
   "codemirror_mode": {
    "name": "ipython",
    "version": 3
   },
   "file_extension": ".py",
   "mimetype": "text/x-python",
   "name": "python",
   "nbconvert_exporter": "python",
   "pygments_lexer": "ipython3",
   "version": "3.13.1"
  }
 },
 "nbformat": 4,
 "nbformat_minor": 2
}
