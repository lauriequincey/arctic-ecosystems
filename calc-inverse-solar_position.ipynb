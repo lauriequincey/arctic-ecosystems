{
 "cells": [
  {
   "cell_type": "markdown",
   "metadata": {},
   "source": [
    "pip install pvlib pysolar scipy pandas\n"
   ]
  },
  {
   "cell_type": "markdown",
   "metadata": {},
   "source": [
    "pvlib"
   ]
  },
  {
   "cell_type": "code",
   "execution_count": 21,
   "metadata": {},
   "outputs": [
    {
     "name": "stdout",
     "output_type": "stream",
     "text": [
      "Estimated time of day (UTC): 06:52:51.847483\n",
      "Full datetime (UTC): 2024-09-05 06:52:51.847483942+00:00\n"
     ]
    }
   ],
   "source": [
    "import pandas as pd\n",
    "import numpy as np\n",
    "from pvlib import solarposition\n",
    "from datetime import datetime, timedelta\n",
    "from scipy.optimize import minimize_scalar\n",
    "\n",
    "# Inputs (example)\n",
    "latitude = 68.35594288\n",
    "longitude = 19.04520892\n",
    "date = pd.Timestamp('1988-08-09', tz='UTC') # landsat uses gmt: https://www.usgs.gov/faqs/how-can-i-find-acquisition-time-a-landsat-scene\n",
    "target_elevation = 36.63043526  # degrees\n",
    "target_azimuth = 162.30177663   # degrees\n",
    "# 09:52:34.5440880Z\n",
    "\n",
    "\t\n",
    "latitude = 68.35594288\n",
    "longitude = 19.04520892\n",
    "date = pd.Timestamp('2024-09-05', tz='UTC') # landsat uses gmt: https://www.usgs.gov/faqs/how-can-i-find-acquisition-time-a-landsat-scene\n",
    "target_elevation = 27.220000  # degrees\n",
    "target_azimuth = 115.460000 # degrees\n",
    "\n",
    "# Objective function: minimize the difference in solar position\n",
    "def objective(mins_since_midnight):\n",
    "    dt = date + pd.Timedelta(minutes=mins_since_midnight)\n",
    "    pos = solarposition.get_solarposition(dt, latitude, longitude)\n",
    "    elev = pos['apparent_elevation'].values[0]\n",
    "    azim = pos['azimuth'].values[0]\n",
    "    return (elev - target_elevation)**2 + (azim - target_azimuth)**2\n",
    "\n",
    "# Optimize over a 24-hour period\n",
    "res = minimize_scalar(objective, bounds=(0, 1440), method='bounded')\n",
    "best_time = date + pd.Timedelta(minutes=res.x)\n",
    "\n",
    "print(\"Estimated time of day (UTC):\", best_time.time())\n",
    "print(\"Full datetime (UTC):\", best_time)"
   ]
  },
  {
   "cell_type": "code",
   "execution_count": 29,
   "metadata": {},
   "outputs": [
    {
     "name": "stdout",
     "output_type": "stream",
     "text": [
      "[210, 270, 0, 90, 150]\n",
      "Estimated time of day (UTC): 15:33:12.561827\n",
      "Full datetime (UTC): 2002-07-04 15:33:12.561827389+00:00\n"
     ]
    }
   ],
   "source": [
    "def calc_time_by_solar(latitude, longitude, date, timezone, target_elevation, target_azimuth):\n",
    "\n",
    "    # Make sure the variables passed to the function are in the correct format\n",
    "    date = pd.Timestamp(date, tz = timezone) # add a timezone just in case (probably just \"UTC\")\n",
    "    target_elevation = abs(27.220000) # must be positive\n",
    "    target_azimuth = abs(target_azimuth) # must be positive\n",
    "    \n",
    "    # Minimize the difference in solar position\n",
    "    def objective(mins_since_midnight):\n",
    "        dt = date + pd.Timedelta(minutes = mins_since_midnight)\n",
    "        pos = solarposition.get_solarposition(dt, latitude, longitude)\n",
    "        elev = pos['apparent_elevation'].values[0]\n",
    "        azim = pos['azimuth'].values[0]\n",
    "        return (elev - target_elevation)**2 + (azim - target_azimuth)**2\n",
    "    \n",
    "    # Optimize over a 24-hour period\n",
    "    res = minimize_scalar(objective, bounds = (0, 1440), method = 'bounded') # using 1440 for number of mins in 24 hours. Don't need more resolution than this\n",
    "    recovered_datetime = date + pd.Timedelta(minutes = res.x) # Get the time of day (res.x) and add it to the input date.\n",
    "    \n",
    "    return recovered_datetime\n",
    "\n",
    "#test = calc_time_by_solar(\n",
    "#    latitude = 68.35594288,\n",
    "#    longitude = 19.04520892,\n",
    "#    date = pd.Timestamp('2024-09-05', tz='UTC'),\n",
    "#    target_elevation = 27.220000,\n",
    "#    target_azimuth = 115.460000\n",
    "#    )\n",
    "\n",
    "#test = calc_time_by_solar(\n",
    "#    latitude = 68.35594288,\n",
    "#    longitude = 19.04520892,\n",
    "#    date = \"1988-08-09\",\n",
    "#    timezone = \"UTC\",\n",
    "#    target_elevation = 36.63043526, \n",
    "#    target_azimuth = 162.30177663\n",
    "#    )\n",
    "\n",
    "\n",
    "def convert_azimuth(azimuth):\n",
    "    # Convert azimuth from -180 to 180 range to 0 to 360 range\n",
    "    if azimuth < 0:\n",
    "        azimuth += 360\n",
    "    return azimuth\n",
    "\n",
    "# Example usage\n",
    "solar_azimuths = [-150, -90, 0, 90, 150]  # List of example azimuths\n",
    "converted_azimuths = [convert_azimuth(az) for az in solar_azimuths]\n",
    "\n",
    "print(converted_azimuths)\n",
    "\n",
    "\n",
    "test = calc_time_by_solar(\n",
    "    latitude = 68.35594288,\n",
    "    longitude = 19.04520892,\n",
    "    date = \"2002-07-04\",\n",
    "    timezone = \"UTC\",\n",
    "    target_elevation = 43.31, \n",
    "    target_azimuth = convert_azimuth(-98.93)\n",
    "    )\n",
    "\n",
    "print(\"Estimated time of day (UTC):\", test.time())\n",
    "print(\"Full datetime (UTC):\", test)"
   ]
  },
  {
   "cell_type": "markdown",
   "metadata": {},
   "source": [
    "pvlib but with millseconds and elevation (instead of apparent elevation)"
   ]
  },
  {
   "cell_type": "code",
   "execution_count": 37,
   "metadata": {},
   "outputs": [
    {
     "name": "stdout",
     "output_type": "stream",
     "text": [
      "Estimated time of day (UTC): 09:50:29.590540\n",
      "Full datetime (UTC): 1988-08-09 09:50:29.590540080+00:00\n"
     ]
    }
   ],
   "source": [
    "import pandas as pd\n",
    "import numpy as np\n",
    "from pvlib import solarposition\n",
    "from scipy.optimize import minimize_scalar\n",
    "\n",
    "# Inputs\n",
    "latitude = 68.35594288\n",
    "longitude = 19.04520892\n",
    "date = pd.Timestamp('1988-08-09', tz='UTC')\n",
    "target_elevation = 36.63043526  # degrees\n",
    "target_azimuth = 162.30177663   # degrees\n",
    "\n",
    "# Objective function: seconds since midnight\n",
    "def objective(secs_since_midnight):\n",
    "    dt = date + pd.Timedelta(seconds=secs_since_midnight)\n",
    "    pos = solarposition.get_solarposition(dt, latitude, longitude)\n",
    "    #elev = pos['apparent_elevation'].values[0]\n",
    "    elev = pos['elevation'].values[0]  # instead of 'apparent_elevation'\n",
    "    azim = pos['azimuth'].values[0]\n",
    "    return (elev - target_elevation)**2 + (azim - target_azimuth)**2\n",
    "\n",
    "# Optimize over a 24-hour period in seconds\n",
    "res = minimize_scalar(objective, bounds=(0, 86400), method='bounded', options={'xatol': 0.01})\n",
    "\n",
    "# Best estimated time\n",
    "best_time = date + pd.Timedelta(seconds=res.x)\n",
    "\n",
    "print(\"Estimated time of day (UTC):\", best_time.time())\n",
    "print(\"Full datetime (UTC):\", best_time)\n"
   ]
  },
  {
   "cell_type": "markdown",
   "metadata": {},
   "source": [
    "pysolar"
   ]
  },
  {
   "cell_type": "code",
   "execution_count": 30,
   "metadata": {},
   "outputs": [
    {
     "name": "stdout",
     "output_type": "stream",
     "text": [
      "Estimated time of day (pysolar): 09:50:29.460480\n"
     ]
    }
   ],
   "source": [
    "from pysolar.solar import get_altitude, get_azimuth\n",
    "from datetime import datetime, timedelta\n",
    "from scipy.optimize import minimize_scalar\n",
    "import pytz\n",
    "\n",
    "latitude = 68.35594288\n",
    "longitude = 19.04520892\n",
    "date = pd.Timestamp('1988-08-09', tz='UTC') # landsat uses gmt: https://www.usgs.gov/faqs/how-can-i-find-acquisition-time-a-landsat-scene\n",
    "target_elevation = 36.63043526  # degrees\n",
    "target_azimuth = 162.30177663   # degrees\n",
    "# 09:52:34.5440880Z\n",
    "\n",
    "# Objective function\n",
    "def objective(mins_since_midnight):\n",
    "    dt = date + timedelta(minutes=mins_since_midnight)\n",
    "    elev = get_altitude(latitude, longitude, dt)\n",
    "    azim = get_azimuth(latitude, longitude, dt)\n",
    "    return (elev - target_elevation)**2 + (azim - target_azimuth)**2\n",
    "\n",
    "# Optimize over a 24-hour window\n",
    "res = minimize_scalar(objective, bounds=(0, 1440), method='bounded')\n",
    "best_time = date + timedelta(minutes=res.x)\n",
    "\n",
    "print(\"Estimated time of day (pysolar):\", best_time.time())\n",
    "\n",
    "# should produce: 09:52:34.5440880Z"
   ]
  },
  {
   "cell_type": "markdown",
   "metadata": {},
   "source": [
    "skyfield"
   ]
  },
  {
   "cell_type": "code",
   "execution_count": 39,
   "metadata": {},
   "outputs": [
    {
     "name": "stderr",
     "output_type": "stream",
     "text": [
      "[#################################] 100% de421.bsp\n"
     ]
    },
    {
     "name": "stdout",
     "output_type": "stream",
     "text": [
      "Elevation: 36.604571444148334\n",
      "Azimuth: 162.93007232057565\n"
     ]
    }
   ],
   "source": [
    "from skyfield.api import load, wgs84\n",
    "from datetime import datetime, timezone\n",
    "\n",
    "ts = load.timescale()\n",
    "t = ts.utc(1988, 8, 9, 9, 52, 34.544088)\n",
    "\n",
    "eph = load('de421.bsp')\n",
    "sun = eph['sun']\n",
    "earth = eph['earth']\n",
    "\n",
    "location = earth + wgs84.latlon(68.35594288, 19.04520892)\n",
    "astrometric = location.at(t).observe(sun)\n",
    "alt, az, _ = astrometric.apparent().altaz()\n",
    "\n",
    "print(\"Elevation:\", alt.degrees)\n",
    "print(\"Azimuth:\", az.degrees)\n"
   ]
  },
  {
   "cell_type": "code",
   "execution_count": 40,
   "metadata": {},
   "outputs": [
    {
     "name": "stdout",
     "output_type": "stream",
     "text": [
      "Estimated time of day (UTC): 09:50:29.490115\n",
      "Full datetime (UTC): 1988-08-09 09:50:29.490115+00:00\n"
     ]
    }
   ],
   "source": [
    "import pandas as pd\n",
    "from skyfield.api import load, wgs84\n",
    "from datetime import datetime, timezone\n",
    "from scipy.optimize import minimize_scalar\n",
    "\n",
    "# Inputs\n",
    "latitude = 68.35594288\n",
    "longitude = 19.04520892\n",
    "date = pd.Timestamp('1988-08-09', tz='UTC')\n",
    "target_elevation = 36.63043526\n",
    "target_azimuth = 162.30177663\n",
    "\n",
    "# Load ephemeris data and time scale\n",
    "eph = load('de421.bsp')\n",
    "sun = eph['sun']\n",
    "earth = eph['earth']\n",
    "ts = load.timescale()\n",
    "\n",
    "# Objective function: seconds since midnight\n",
    "def objective(seconds_since_midnight):\n",
    "    t = ts.utc(1988, 8, 9, 0, 0, seconds_since_midnight)\n",
    "    location = earth + wgs84.latlon(latitude, longitude)\n",
    "    astrometric = location.at(t).observe(sun)\n",
    "    alt, az, _ = astrometric.apparent().altaz()\n",
    "    return (alt.degrees - target_elevation)**2 + (az.degrees - target_azimuth)**2\n",
    "\n",
    "# Optimize over a 24-hour day (in seconds)\n",
    "res = minimize_scalar(objective, bounds=(0, 86400), method='bounded', options={'xatol': 0.01})\n",
    "best_time_seconds = res.x\n",
    "\n",
    "# Final timestamp\n",
    "hours = int(best_time_seconds // 3600)\n",
    "minutes = int((best_time_seconds % 3600) // 60)\n",
    "seconds = best_time_seconds % 60\n",
    "final_time = datetime(1988, 8, 9, hours, minutes, int(seconds), int((seconds % 1) * 1e6), tzinfo=timezone.utc)\n",
    "\n",
    "print(\"Estimated time of day (UTC):\", final_time.time())\n",
    "print(\"Full datetime (UTC):\", final_time)\n"
   ]
  }
 ],
 "metadata": {
  "kernelspec": {
   "display_name": ".venv",
   "language": "python",
   "name": "python3"
  },
  "language_info": {
   "codemirror_mode": {
    "name": "ipython",
    "version": 3
   },
   "file_extension": ".py",
   "mimetype": "text/x-python",
   "name": "python",
   "nbconvert_exporter": "python",
   "pygments_lexer": "ipython3",
   "version": "3.13.1"
  }
 },
 "nbformat": 4,
 "nbformat_minor": 2
}
