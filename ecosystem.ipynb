{
 "cells": [
  {
   "cell_type": "code",
   "execution_count": 20,
   "metadata": {},
   "outputs": [
    {
     "data": {
      "text/html": [
       "\n",
       "            <style>\n",
       "                .geemap-dark {\n",
       "                    --jp-widgets-color: white;\n",
       "                    --jp-widgets-label-color: white;\n",
       "                    --jp-ui-font-color1: white;\n",
       "                    --jp-layout-color2: #454545;\n",
       "                    background-color: #383838;\n",
       "                }\n",
       "\n",
       "                .geemap-dark .jupyter-button {\n",
       "                    --jp-layout-color3: #383838;\n",
       "                }\n",
       "\n",
       "                .geemap-colab {\n",
       "                    background-color: var(--colab-primary-surface-color, white);\n",
       "                }\n",
       "\n",
       "                .geemap-colab .jupyter-button {\n",
       "                    --jp-layout-color3: var(--colab-primary-surface-color, white);\n",
       "                }\n",
       "            </style>\n",
       "            "
      ],
      "text/plain": [
       "<IPython.core.display.HTML object>"
      ]
     },
     "metadata": {},
     "output_type": "display_data"
    }
   ],
   "source": [
    "import ee\n",
    "import geemap\n",
    "ee.Authenticate()\n",
    "ee.Initialize(project='arcticecosystems')\n",
    "\n",
    "import pandas as pd"
   ]
  },
  {
   "cell_type": "code",
   "execution_count": 5,
   "metadata": {},
   "outputs": [
    {
     "data": {
      "text/html": [
       "\n",
       "            <style>\n",
       "                .geemap-dark {\n",
       "                    --jp-widgets-color: white;\n",
       "                    --jp-widgets-label-color: white;\n",
       "                    --jp-ui-font-color1: white;\n",
       "                    --jp-layout-color2: #454545;\n",
       "                    background-color: #383838;\n",
       "                }\n",
       "\n",
       "                .geemap-dark .jupyter-button {\n",
       "                    --jp-layout-color3: #383838;\n",
       "                }\n",
       "\n",
       "                .geemap-colab {\n",
       "                    background-color: var(--colab-primary-surface-color, white);\n",
       "                }\n",
       "\n",
       "                .geemap-colab .jupyter-button {\n",
       "                    --jp-layout-color3: var(--colab-primary-surface-color, white);\n",
       "                }\n",
       "            </style>\n",
       "            "
      ],
      "text/plain": [
       "<IPython.core.display.HTML object>"
      ]
     },
     "metadata": {},
     "output_type": "display_data"
    }
   ],
   "source": [
    "startDate = \"2020-06-01\"\n",
    "advanceDays = 30\n",
    "dateRange = ee.DateRange(ee.Date(startDate), ee.Date(startDate).advance(advanceDays, 'day'))\n",
    "geometry = ee.Geometry.Point([-129.9930708040777, 68.59277781573002])"
   ]
  },
  {
   "cell_type": "code",
   "execution_count": 6,
   "metadata": {},
   "outputs": [
    {
     "data": {
      "text/html": [
       "\n",
       "            <style>\n",
       "                .geemap-dark {\n",
       "                    --jp-widgets-color: white;\n",
       "                    --jp-widgets-label-color: white;\n",
       "                    --jp-ui-font-color1: white;\n",
       "                    --jp-layout-color2: #454545;\n",
       "                    background-color: #383838;\n",
       "                }\n",
       "\n",
       "                .geemap-dark .jupyter-button {\n",
       "                    --jp-layout-color3: #383838;\n",
       "                }\n",
       "\n",
       "                .geemap-colab {\n",
       "                    background-color: var(--colab-primary-surface-color, white);\n",
       "                }\n",
       "\n",
       "                .geemap-colab .jupyter-button {\n",
       "                    --jp-layout-color3: var(--colab-primary-surface-color, white);\n",
       "                }\n",
       "            </style>\n",
       "            "
      ],
      "text/plain": [
       "<IPython.core.display.HTML object>"
      ]
     },
     "metadata": {},
     "output_type": "display_data"
    }
   ],
   "source": [
    "testLandsatImage = ee.ImageCollection('LANDSAT/LC08/C02/T1_L2').select(\n",
    "    ['SR_B2', 'SR_B3', 'SR_B4', 'SR_B5', 'SR_B6', 'SR_B7', 'ST_B10', 'QA_PIXEL'],\n",
    "    ['Blue', 'Green', 'Red', 'NIR', 'SWIR1', 'SWIR2', 'TIR', 'QA_PIXEL']\n",
    ").filterBounds(geometry).filterDate(dateRange).filter(ee.Filter.lt('CLOUD_COVER', 10))"
   ]
  },
  {
   "cell_type": "code",
   "execution_count": 7,
   "metadata": {},
   "outputs": [
    {
     "data": {
      "text/html": [
       "\n",
       "            <style>\n",
       "                .geemap-dark {\n",
       "                    --jp-widgets-color: white;\n",
       "                    --jp-widgets-label-color: white;\n",
       "                    --jp-ui-font-color1: white;\n",
       "                    --jp-layout-color2: #454545;\n",
       "                    background-color: #383838;\n",
       "                }\n",
       "\n",
       "                .geemap-dark .jupyter-button {\n",
       "                    --jp-layout-color3: #383838;\n",
       "                }\n",
       "\n",
       "                .geemap-colab {\n",
       "                    background-color: var(--colab-primary-surface-color, white);\n",
       "                }\n",
       "\n",
       "                .geemap-colab .jupyter-button {\n",
       "                    --jp-layout-color3: var(--colab-primary-surface-color, white);\n",
       "                }\n",
       "            </style>\n",
       "            "
      ],
      "text/plain": [
       "<IPython.core.display.HTML object>"
      ]
     },
     "metadata": {},
     "output_type": "display_data"
    }
   ],
   "source": [
    "nbrExpression = '(b(\"SWIR1\") - b(\"NIR\")) / (b(\"SWIR1\") + b(\"NIR\"))'\n",
    "nbr = testLandsatImage.first().expression(nbrExpression).rename('nbr')\n",
    "\n",
    "ndviExpression = '(b(\"NIR\") - b(\"Red\")) / (b(\"NIR\") + b(\"Red\"))'\n",
    "ndvi = testLandsatImage.first().expression(ndviExpression).rename('ndvi')\n",
    "\n",
    "##mnliExpression = '( ( (b(\"NIR\") * b(\"NIR\")) - b(\"Red\") ) * (1 + 0.5) ) / ( ( b(\"NIR\") * b(\"NIR\") ) + b(\"Red\") + 0.5 )'\n",
    "##mnli = testLandsatImage.first().expression(mnliExpression).rename('mnli')\n",
    "\n",
    "saviExpression = '1.5 * (b(\"NIR\") - b(\"Red\")) / (b(\"NIR\") + b(\"Red\") + 0.5)'\n",
    "savi = testLandsatImage.first().expression(saviExpression).rename('savi')\n",
    "\n",
    "rdviExpression = '(b(\"NIR\") - b(\"Red\")) / sqrt((b(\"NIR\") + b(\"Red\")))'\n",
    "rdvi = testLandsatImage.first().expression(rdviExpression).rename('rdvi')\n",
    "\n",
    "gviExpression = '(-0.2848 * b(\"Blue\")) + (-0.2435 * b(\"Green\")) + (-0.5436 * b(\"Red\")) + (0.7243 * b(\"NIR\")) + (0.0840 * b(\"SWIR1\")) + (-0.1800 * b(\"SWIR2\"))'\n",
    "gvi = testLandsatImage.first().expression(gviExpression).rename('gvi')\n",
    "\n",
    "ndmiExpression = '(b(\"NIR\") - b(\"SWIR1\")) / (b(\"NIR\") + b(\"SWIR1\"))'\n",
    "ndmi = testLandsatImage.first().expression(ndmiExpression).rename('ndmi')\n",
    "\n",
    "ndwiExpression = '(b(\"Green\") - b(\"SWIR1\")) / (b(\"Green\") + b(\"SWIR1\"))'\n",
    "ndwi = testLandsatImage.first().expression(ndwiExpression).rename('ndwi')"
   ]
  },
  {
   "cell_type": "code",
   "execution_count": 8,
   "metadata": {},
   "outputs": [
    {
     "data": {
      "text/html": [
       "\n",
       "            <style>\n",
       "                .geemap-dark {\n",
       "                    --jp-widgets-color: white;\n",
       "                    --jp-widgets-label-color: white;\n",
       "                    --jp-ui-font-color1: white;\n",
       "                    --jp-layout-color2: #454545;\n",
       "                    background-color: #383838;\n",
       "                }\n",
       "\n",
       "                .geemap-dark .jupyter-button {\n",
       "                    --jp-layout-color3: #383838;\n",
       "                }\n",
       "\n",
       "                .geemap-colab {\n",
       "                    background-color: var(--colab-primary-surface-color, white);\n",
       "                }\n",
       "\n",
       "                .geemap-colab .jupyter-button {\n",
       "                    --jp-layout-color3: var(--colab-primary-surface-color, white);\n",
       "                }\n",
       "            </style>\n",
       "            "
      ],
      "text/plain": [
       "<IPython.core.display.HTML object>"
      ]
     },
     "metadata": {},
     "output_type": "display_data"
    }
   ],
   "source": [
    "dataset = ee.ImageCollection('MODIS/061/MCD64A1').filter(ee.Filter.date('2000-11-01', '2024-11-01'))\n",
    "burnedArea = dataset.select('BurnDate')"
   ]
  },
  {
   "cell_type": "code",
   "execution_count": 9,
   "metadata": {},
   "outputs": [
    {
     "data": {
      "text/html": [
       "\n",
       "            <style>\n",
       "                .geemap-dark {\n",
       "                    --jp-widgets-color: white;\n",
       "                    --jp-widgets-label-color: white;\n",
       "                    --jp-ui-font-color1: white;\n",
       "                    --jp-layout-color2: #454545;\n",
       "                    background-color: #383838;\n",
       "                }\n",
       "\n",
       "                .geemap-dark .jupyter-button {\n",
       "                    --jp-layout-color3: #383838;\n",
       "                }\n",
       "\n",
       "                .geemap-colab {\n",
       "                    background-color: var(--colab-primary-surface-color, white);\n",
       "                }\n",
       "\n",
       "                .geemap-colab .jupyter-button {\n",
       "                    --jp-layout-color3: var(--colab-primary-surface-color, white);\n",
       "                }\n",
       "            </style>\n",
       "            "
      ],
      "text/plain": [
       "<IPython.core.display.HTML object>"
      ]
     },
     "metadata": {},
     "output_type": "display_data"
    },
    {
     "data": {
      "application/vnd.jupyter.widget-view+json": {
       "model_id": "545d9dd7c33d46afaf27ba882f2634f5",
       "version_major": 2,
       "version_minor": 0
      },
      "text/plain": [
       "Map(center=[68.27931430329704, -132.89380539556925], controls=(WidgetControl(options=['position', 'transparent…"
      ]
     },
     "execution_count": 9,
     "metadata": {},
     "output_type": "execute_result"
    }
   ],
   "source": [
    "Map = geemap.Map()\n",
    "Map.centerObject(testLandsatImage, zoom = 8)\n",
    "\n",
    "Map.addLayer(testLandsatImage, {}, 'landsat')\n",
    "Map.addLayer(nbr, {'min': 0, 'max': 0.2, 'palette': 'Reds'}, 'nbr')\n",
    "Map.addLayer(ndvi, {'min': 0, 'max': 0.2, 'palette': 'Greens'}, 'ndvi', False)\n",
    "Map.addLayer(savi, {'min': 0, 'max': 0.3, 'palette': 'Greens'}, 'savi')\n",
    "Map.addLayer(rdvi, {'min': 4.3, 'max': 30.9, 'palette': 'Greens'}, 'rdvi')\n",
    "Map.addLayer(gvi, {'min': -5253.5, 'max': 51.7, 'palette': 'Greens'}, 'gvi')\n",
    "Map.addLayer(ndmi, {'min': -0.2, 'max': 0.1, 'palette': 'Blues'}, 'ndmi')\n",
    "Map.addLayer(ndwi, {'min': -0.2, 'max': -0.1, 'palette': 'Purples'}, 'ndwi')\n",
    "Map.addLayer(burnedArea, {}, 'modis precomp burned area', False)\n",
    "\n",
    "Map"
   ]
  },
  {
   "cell_type": "markdown",
   "metadata": {},
   "source": [
    "dNBR thresholds (https://www.earthdatascience.org/courses/earth-analytics/multispectral-remote-sensing-modis/normalized-burn-index-dNBR/)\n",
    "SEVERITY LEVEL\t \tdNBR RANGE\n",
    "Enhanced Regrowth\t \t< -.1\n",
    "Unburned\t \t-.1 to +.1\n",
    "Low Severity\t \t+.1 to +.27\n",
    "Moderate Severity\t \t+.27 to +.66\n",
    "High Severity\t \t> .66"
   ]
  },
  {
   "cell_type": "code",
   "execution_count": 10,
   "metadata": {},
   "outputs": [
    {
     "data": {
      "text/html": [
       "\n",
       "            <style>\n",
       "                .geemap-dark {\n",
       "                    --jp-widgets-color: white;\n",
       "                    --jp-widgets-label-color: white;\n",
       "                    --jp-ui-font-color1: white;\n",
       "                    --jp-layout-color2: #454545;\n",
       "                    background-color: #383838;\n",
       "                }\n",
       "\n",
       "                .geemap-dark .jupyter-button {\n",
       "                    --jp-layout-color3: #383838;\n",
       "                }\n",
       "\n",
       "                .geemap-colab {\n",
       "                    background-color: var(--colab-primary-surface-color, white);\n",
       "                }\n",
       "\n",
       "                .geemap-colab .jupyter-button {\n",
       "                    --jp-layout-color3: var(--colab-primary-surface-color, white);\n",
       "                }\n",
       "            </style>\n",
       "            "
      ],
      "text/plain": [
       "<IPython.core.display.HTML object>"
      ]
     },
     "metadata": {},
     "output_type": "display_data"
    }
   ],
   "source": [
    "nbrThresholdRegrowth = nbr.lte(-0.1).rename('nbrRegrowth')\n",
    "nbrThresholdUnburned = nbr.gt(-0.1).And(nbr.lt(0.1)).rename('nbrUnburned')\n",
    "nbrThresholdAllSeverity = nbr.gt(0.1).rename('allSeverity')\n",
    "nbrThresholdLowSeverity = nbr.gt(0.1).And(nbr.lt(0.27)).rename('lowSeverity')\n",
    "nbrThresholdMedSeverity = nbr.gt(0.27).And(nbr.lt(0.66)).rename('medSeverity')\n",
    "nbrThresholdHiSeverity = nbr.gte(0.66).rename('hiSeverity')"
   ]
  },
  {
   "cell_type": "code",
   "execution_count": 11,
   "metadata": {},
   "outputs": [
    {
     "data": {
      "text/html": [
       "\n",
       "            <style>\n",
       "                .geemap-dark {\n",
       "                    --jp-widgets-color: white;\n",
       "                    --jp-widgets-label-color: white;\n",
       "                    --jp-ui-font-color1: white;\n",
       "                    --jp-layout-color2: #454545;\n",
       "                    background-color: #383838;\n",
       "                }\n",
       "\n",
       "                .geemap-dark .jupyter-button {\n",
       "                    --jp-layout-color3: #383838;\n",
       "                }\n",
       "\n",
       "                .geemap-colab {\n",
       "                    background-color: var(--colab-primary-surface-color, white);\n",
       "                }\n",
       "\n",
       "                .geemap-colab .jupyter-button {\n",
       "                    --jp-layout-color3: var(--colab-primary-surface-color, white);\n",
       "                }\n",
       "            </style>\n",
       "            "
      ],
      "text/plain": [
       "<IPython.core.display.HTML object>"
      ]
     },
     "metadata": {},
     "output_type": "display_data"
    },
    {
     "data": {
      "application/vnd.jupyter.widget-view+json": {
       "model_id": "550350c72cb84939a4d2ba155e9e74c7",
       "version_major": 2,
       "version_minor": 0
      },
      "text/plain": [
       "Map(center=[68.27931430329704, -132.89380539556925], controls=(WidgetControl(options=['position', 'transparent…"
      ]
     },
     "execution_count": 11,
     "metadata": {},
     "output_type": "execute_result"
    }
   ],
   "source": [
    "Map = geemap.Map()\n",
    "Map.centerObject(testLandsatImage, zoom = 8)\n",
    "Map.addLayer(testLandsatImage, {}, 'landsat')\n",
    "Map.addLayer(nbrThresholdRegrowth, {'palette': ['ffffff', 'fc4b05']}, 'nbrThresholdRegrowth', False)\n",
    "Map.addLayer(nbrThresholdUnburned, {'palette': ['ffffff', 'fc4b05']}, 'nbrThresholdUnburned', False)\n",
    "Map.addLayer(nbr.updateMask(nbrThresholdAllSeverity), {'palette': \"Reds\"}, 'nbrThresholdAllSeverity')\n",
    "Map.addLayer(nbrThresholdLowSeverity, {'palette': ['ffffff', 'fc4b05']}, 'nbrThresholdLowSeverity', False)\n",
    "Map.addLayer(nbrThresholdMedSeverity, {'palette': ['ffffff', 'fc4b05']}, 'nbrThresholdMedSeverity', False)\n",
    "Map.addLayer(nbrThresholdHiSeverity, {'palette': ['ffffff', 'fc4b05']}, 'nbrThresholdHiSeverity', False)\n",
    "\n",
    "Map\n"
   ]
  },
  {
   "cell_type": "code",
   "execution_count": 50,
   "metadata": {},
   "outputs": [
    {
     "data": {
      "text/html": [
       "\n",
       "            <style>\n",
       "                .geemap-dark {\n",
       "                    --jp-widgets-color: white;\n",
       "                    --jp-widgets-label-color: white;\n",
       "                    --jp-ui-font-color1: white;\n",
       "                    --jp-layout-color2: #454545;\n",
       "                    background-color: #383838;\n",
       "                }\n",
       "\n",
       "                .geemap-dark .jupyter-button {\n",
       "                    --jp-layout-color3: #383838;\n",
       "                }\n",
       "\n",
       "                .geemap-colab {\n",
       "                    background-color: var(--colab-primary-surface-color, white);\n",
       "                }\n",
       "\n",
       "                .geemap-colab .jupyter-button {\n",
       "                    --jp-layout-color3: var(--colab-primary-surface-color, white);\n",
       "                }\n",
       "            </style>\n",
       "            "
      ],
      "text/plain": [
       "<IPython.core.display.HTML object>"
      ]
     },
     "metadata": {},
     "output_type": "display_data"
    },
    {
     "name": "stdout",
     "output_type": "stream",
     "text": [
      "['nbr']\n",
      "0.11931346127949093\n",
      "0.11931346127949093\n"
     ]
    }
   ],
   "source": [
    "nbrAllSeverityMean = nbr.updateMask(nbrThresholdAllSeverity).reduceRegion(**{\n",
    "    'reducer': ee.Reducer.mean(),\n",
    "    'geometry': testLandsatImage.first().geometry(),\n",
    "    'scale': 30,\n",
    "    'bestEffort': True\n",
    "})\n",
    "##print(f'Mean nbr of image from all severity burn values: {nbrAllSeverityMean.getInfo()}')\n",
    "print(nbrAllSeverityMean.keys().getInfo())\n",
    "print(nbrAllSeverityMean.getInfo()['nbr'])\n",
    "print(nbrAllSeverityMean.get('nbr').getInfo())"
   ]
  },
  {
   "cell_type": "code",
   "execution_count": 54,
   "metadata": {},
   "outputs": [
    {
     "data": {
      "text/html": [
       "\n",
       "            <style>\n",
       "                .geemap-dark {\n",
       "                    --jp-widgets-color: white;\n",
       "                    --jp-widgets-label-color: white;\n",
       "                    --jp-ui-font-color1: white;\n",
       "                    --jp-layout-color2: #454545;\n",
       "                    background-color: #383838;\n",
       "                }\n",
       "\n",
       "                .geemap-dark .jupyter-button {\n",
       "                    --jp-layout-color3: #383838;\n",
       "                }\n",
       "\n",
       "                .geemap-colab {\n",
       "                    background-color: var(--colab-primary-surface-color, white);\n",
       "                }\n",
       "\n",
       "                .geemap-colab .jupyter-button {\n",
       "                    --jp-layout-color3: var(--colab-primary-surface-color, white);\n",
       "                }\n",
       "            </style>\n",
       "            "
      ],
      "text/plain": [
       "<IPython.core.display.HTML object>"
      ]
     },
     "metadata": {},
     "output_type": "display_data"
    },
    {
     "name": "stdout",
     "output_type": "stream",
     "text": [
      "{'type': 'Feature', 'geometry': {'type': 'Polygon', 'coordinates': [[[-135.87088137500578, 67.79675100172878], [-135.86955436703474, 67.79626298846752], [-135.68821273869753, 67.76922771572154], [-134.91625459716408, 67.65117936096587], [-132.5020514660815, 67.24991298399674], [-131.8350240185899, 67.13015192887212], [-131.45159430165663, 67.44420471710342], [-131.43082844583785, 67.46099290535561], [-130.96699491361787, 67.83010248427415], [-130.52896364730384, 68.16744941733839], [-130.31836089263246, 68.32588671504922], [-130.17715260561803, 68.43083865108512], [-129.83987485173483, 68.67793746173336], [-129.79314078444455, 68.71170923624955], [-129.79433241013638, 68.71222264601099], [-130.6516334182185, 68.8656411473199], [-133.11602649815362, 69.27197176585348], [-134.0203687943106, 69.40872432428796], [-134.07756644218276, 69.41714113658378], [-134.0826012555486, 69.41306287223404], [-135.87090872890104, 67.79749007405859], [-135.87088137500578, 67.79675100172878]]]}, 'properties': {'nbr': 0.11931346127949093}}\n"
     ]
    }
   ],
   "source": [
    "redRegOutputasFeature = ee.Feature(\n",
    "    geom = testLandsatImage.first().geometry(),\n",
    "    properties = nbrAllSeverityMean)\n",
    "print(redRegOutputasFeature.getInfo())"
   ]
  },
  {
   "cell_type": "code",
   "execution_count": 29,
   "metadata": {},
   "outputs": [
    {
     "data": {
      "text/html": [
       "\n",
       "            <style>\n",
       "                .geemap-dark {\n",
       "                    --jp-widgets-color: white;\n",
       "                    --jp-widgets-label-color: white;\n",
       "                    --jp-ui-font-color1: white;\n",
       "                    --jp-layout-color2: #454545;\n",
       "                    background-color: #383838;\n",
       "                }\n",
       "\n",
       "                .geemap-dark .jupyter-button {\n",
       "                    --jp-layout-color3: #383838;\n",
       "                }\n",
       "\n",
       "                .geemap-colab {\n",
       "                    background-color: var(--colab-primary-surface-color, white);\n",
       "                }\n",
       "\n",
       "                .geemap-colab .jupyter-button {\n",
       "                    --jp-layout-color3: var(--colab-primary-surface-color, white);\n",
       "                }\n",
       "            </style>\n",
       "            "
      ],
      "text/plain": [
       "<IPython.core.display.HTML object>"
      ]
     },
     "metadata": {},
     "output_type": "display_data"
    },
    {
     "name": "stdout",
     "output_type": "stream",
     "text": [
      "[[1, 2, 3, 4, 5], [6, 7, 8, 9, 0]]\n"
     ]
    }
   ],
   "source": [
    "testArray = ee.Array([[1,2,3,4,5], [6,7,8,9,0]])\n",
    "print(testArray.getInfo())"
   ]
  },
  {
   "cell_type": "code",
   "execution_count": 24,
   "metadata": {},
   "outputs": [
    {
     "data": {
      "text/html": [
       "\n",
       "            <style>\n",
       "                .geemap-dark {\n",
       "                    --jp-widgets-color: white;\n",
       "                    --jp-widgets-label-color: white;\n",
       "                    --jp-ui-font-color1: white;\n",
       "                    --jp-layout-color2: #454545;\n",
       "                    background-color: #383838;\n",
       "                }\n",
       "\n",
       "                .geemap-dark .jupyter-button {\n",
       "                    --jp-layout-color3: #383838;\n",
       "                }\n",
       "\n",
       "                .geemap-colab {\n",
       "                    background-color: var(--colab-primary-surface-color, white);\n",
       "                }\n",
       "\n",
       "                .geemap-colab .jupyter-button {\n",
       "                    --jp-layout-color3: var(--colab-primary-surface-color, white);\n",
       "                }\n",
       "            </style>\n",
       "            "
      ],
      "text/plain": [
       "<IPython.core.display.HTML object>"
      ]
     },
     "metadata": {},
     "output_type": "display_data"
    }
   ],
   "source": [
    "def ee_array_to_df(arr, list_of_bands):\n",
    "    \"\"\"Transforms client-side ee.Image.getRegion array to pandas.DataFrame.\"\"\"\n",
    "    df = pd.DataFrame(arr)\n",
    "\n",
    "    # Rearrange the header.\n",
    "    headers = df.iloc[0]\n",
    "    df = pd.DataFrame(df.values[1:], columns=headers)\n",
    "\n",
    "    # Remove rows without data inside.\n",
    "    df = df[['longitude', 'latitude', 'time', *list_of_bands]].dropna()\n",
    "\n",
    "    # Convert the data to numeric values.\n",
    "    for band in list_of_bands:\n",
    "        df[band] = pd.to_numeric(df[band], errors='coerce')\n",
    "\n",
    "    # Convert the time field into a datetime.\n",
    "    df['datetime'] = pd.to_datetime(df['time'], unit='ms')\n",
    "\n",
    "    # Keep the columns of interest.\n",
    "    df = df[['time','datetime',  *list_of_bands]]\n",
    "\n",
    "    return df"
   ]
  }
 ],
 "metadata": {
  "kernelspec": {
   "display_name": ".venv",
   "language": "python",
   "name": "python3"
  },
  "language_info": {
   "codemirror_mode": {
    "name": "ipython",
    "version": 3
   },
   "file_extension": ".py",
   "mimetype": "text/x-python",
   "name": "python",
   "nbconvert_exporter": "python",
   "pygments_lexer": "ipython3",
   "version": "3.13.1"
  }
 },
 "nbformat": 4,
 "nbformat_minor": 2
}
