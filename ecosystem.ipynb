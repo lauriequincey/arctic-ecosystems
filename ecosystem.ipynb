{
 "cells": [
  {
   "cell_type": "code",
   "execution_count": 71,
   "metadata": {},
   "outputs": [
    {
     "data": {
      "text/html": [
       "\n",
       "            <style>\n",
       "                .geemap-dark {\n",
       "                    --jp-widgets-color: white;\n",
       "                    --jp-widgets-label-color: white;\n",
       "                    --jp-ui-font-color1: white;\n",
       "                    --jp-layout-color2: #454545;\n",
       "                    background-color: #383838;\n",
       "                }\n",
       "\n",
       "                .geemap-dark .jupyter-button {\n",
       "                    --jp-layout-color3: #383838;\n",
       "                }\n",
       "\n",
       "                .geemap-colab {\n",
       "                    background-color: var(--colab-primary-surface-color, white);\n",
       "                }\n",
       "\n",
       "                .geemap-colab .jupyter-button {\n",
       "                    --jp-layout-color3: var(--colab-primary-surface-color, white);\n",
       "                }\n",
       "            </style>\n",
       "            "
      ],
      "text/plain": [
       "<IPython.core.display.HTML object>"
      ]
     },
     "metadata": {},
     "output_type": "display_data"
    }
   ],
   "source": [
    "import ee\n",
    "import geemap\n",
    "ee.Authenticate()\n",
    "ee.Initialize(project='arcticecosystems')"
   ]
  },
  {
   "cell_type": "code",
   "execution_count": 72,
   "metadata": {},
   "outputs": [
    {
     "data": {
      "text/html": [
       "\n",
       "            <style>\n",
       "                .geemap-dark {\n",
       "                    --jp-widgets-color: white;\n",
       "                    --jp-widgets-label-color: white;\n",
       "                    --jp-ui-font-color1: white;\n",
       "                    --jp-layout-color2: #454545;\n",
       "                    background-color: #383838;\n",
       "                }\n",
       "\n",
       "                .geemap-dark .jupyter-button {\n",
       "                    --jp-layout-color3: #383838;\n",
       "                }\n",
       "\n",
       "                .geemap-colab {\n",
       "                    background-color: var(--colab-primary-surface-color, white);\n",
       "                }\n",
       "\n",
       "                .geemap-colab .jupyter-button {\n",
       "                    --jp-layout-color3: var(--colab-primary-surface-color, white);\n",
       "                }\n",
       "            </style>\n",
       "            "
      ],
      "text/plain": [
       "<IPython.core.display.HTML object>"
      ]
     },
     "metadata": {},
     "output_type": "display_data"
    }
   ],
   "source": [
    "startDate = \"2020-06-01\"\n",
    "advanceDays = 30\n",
    "dateRange = ee.DateRange(ee.Date(startDate), ee.Date(startDate).advance(advanceDays, 'day'))\n",
    "geometry = ee.Geometry.Point([-129.9930708040777, 68.59277781573002])"
   ]
  },
  {
   "cell_type": "code",
   "execution_count": 73,
   "metadata": {},
   "outputs": [
    {
     "data": {
      "text/html": [
       "\n",
       "            <style>\n",
       "                .geemap-dark {\n",
       "                    --jp-widgets-color: white;\n",
       "                    --jp-widgets-label-color: white;\n",
       "                    --jp-ui-font-color1: white;\n",
       "                    --jp-layout-color2: #454545;\n",
       "                    background-color: #383838;\n",
       "                }\n",
       "\n",
       "                .geemap-dark .jupyter-button {\n",
       "                    --jp-layout-color3: #383838;\n",
       "                }\n",
       "\n",
       "                .geemap-colab {\n",
       "                    background-color: var(--colab-primary-surface-color, white);\n",
       "                }\n",
       "\n",
       "                .geemap-colab .jupyter-button {\n",
       "                    --jp-layout-color3: var(--colab-primary-surface-color, white);\n",
       "                }\n",
       "            </style>\n",
       "            "
      ],
      "text/plain": [
       "<IPython.core.display.HTML object>"
      ]
     },
     "metadata": {},
     "output_type": "display_data"
    },
    {
     "name": "stdout",
     "output_type": "stream",
     "text": [
      "ee.ImageCollection({\n",
      "  \"functionInvocationValue\": {\n",
      "    \"functionName\": \"Collection.filter\",\n",
      "    \"arguments\": {\n",
      "      \"collection\": {\n",
      "        \"functionInvocationValue\": {\n",
      "          \"functionName\": \"Collection.filter\",\n",
      "          \"arguments\": {\n",
      "            \"collection\": {\n",
      "              \"functionInvocationValue\": {\n",
      "                \"functionName\": \"Collection.filter\",\n",
      "                \"arguments\": {\n",
      "                  \"collection\": {\n",
      "                    \"functionInvocationValue\": {\n",
      "                      \"functionName\": \"Collection.map\",\n",
      "                      \"arguments\": {\n",
      "                        \"baseAlgorithm\": {\n",
      "                          \"functionDefinitionValue\": {\n",
      "                            \"argumentNames\": [\n",
      "                              \"_MAPPING_VAR_0_0\"\n",
      "                            ],\n",
      "                            \"body\": {\n",
      "                              \"functionInvocationValue\": {\n",
      "                                \"functionName\": \"Image.select\",\n",
      "                                \"arguments\": {\n",
      "                                  \"bandSelectors\": {\n",
      "                                    \"constantValue\": [\n",
      "                                      \"SR_B2\",\n",
      "                                      \"SR_B3\",\n",
      "                                      \"SR_B4\",\n",
      "                                      \"SR_B5\",\n",
      "                                      \"SR_B6\",\n",
      "                                      \"SR_B7\",\n",
      "                                      \"ST_B10\",\n",
      "                                      \"QA_PIXEL\"\n",
      "                                    ]\n",
      "                                  },\n",
      "                                  \"input\": {\n",
      "                                    \"argumentReference\": \"_MAPPING_VAR_0_0\"\n",
      "                                  },\n",
      "                                  \"newNames\": {\n",
      "                                    \"constantValue\": [\n",
      "                                      \"Blue\",\n",
      "                                      \"Green\",\n",
      "                                      \"Red\",\n",
      "                                      \"NIR\",\n",
      "                                      \"SWIR1\",\n",
      "                                      \"SWIR2\",\n",
      "                                      \"TIR\",\n",
      "                                      \"QA_PIXEL\"\n",
      "                                    ]\n",
      "                                  }\n",
      "                                }\n",
      "                              }\n",
      "                            }\n",
      "                          }\n",
      "                        },\n",
      "                        \"collection\": {\n",
      "                          \"functionInvocationValue\": {\n",
      "                            \"functionName\": \"ImageCollection.load\",\n",
      "                            \"arguments\": {\n",
      "                              \"id\": {\n",
      "                                \"constantValue\": \"LANDSAT/LC08/C02/T1_L2\"\n",
      "                              }\n",
      "                            }\n",
      "                          }\n",
      "                        }\n",
      "                      }\n",
      "                    }\n",
      "                  },\n",
      "                  \"filter\": {\n",
      "                    \"functionInvocationValue\": {\n",
      "                      \"functionName\": \"Filter.intersects\",\n",
      "                      \"arguments\": {\n",
      "                        \"leftField\": {\n",
      "                          \"constantValue\": \".all\"\n",
      "                        },\n",
      "                        \"rightValue\": {\n",
      "                          \"functionInvocationValue\": {\n",
      "                            \"functionName\": \"Feature\",\n",
      "                            \"arguments\": {\n",
      "                              \"geometry\": {\n",
      "                                \"functionInvocationValue\": {\n",
      "                                  \"functionName\": \"GeometryConstructors.Point\",\n",
      "                                  \"arguments\": {\n",
      "                                    \"coordinates\": {\n",
      "                                      \"constantValue\": [\n",
      "                                        -129.9930708040777,\n",
      "                                        68.59277781573002\n",
      "                                      ]\n",
      "                                    }\n",
      "                                  }\n",
      "                                }\n",
      "                              }\n",
      "                            }\n",
      "                          }\n",
      "                        }\n",
      "                      }\n",
      "                    }\n",
      "                  }\n",
      "                }\n",
      "              }\n",
      "            },\n",
      "            \"filter\": {\n",
      "              \"functionInvocationValue\": {\n",
      "                \"functionName\": \"Filter.dateRangeContains\",\n",
      "                \"arguments\": {\n",
      "                  \"leftValue\": {\n",
      "                    \"functionInvocationValue\": {\n",
      "                      \"functionName\": \"DateRange\",\n",
      "                      \"arguments\": {\n",
      "                        \"start\": {\n",
      "                          \"functionInvocationValue\": {\n",
      "                            \"functionName\": \"DateRange\",\n",
      "                            \"arguments\": {\n",
      "                              \"end\": {\n",
      "                                \"functionInvocationValue\": {\n",
      "                                  \"functionName\": \"Date.advance\",\n",
      "                                  \"arguments\": {\n",
      "                                    \"date\": {\n",
      "                                      \"functionInvocationValue\": {\n",
      "                                        \"functionName\": \"Date\",\n",
      "                                        \"arguments\": {\n",
      "                                          \"value\": {\n",
      "                                            \"constantValue\": \"2020-06-01\"\n",
      "                                          }\n",
      "                                        }\n",
      "                                      }\n",
      "                                    },\n",
      "                                    \"delta\": {\n",
      "                                      \"constantValue\": 30\n",
      "                                    },\n",
      "                                    \"unit\": {\n",
      "                                      \"constantValue\": \"day\"\n",
      "                                    }\n",
      "                                  }\n",
      "                                }\n",
      "                              },\n",
      "                              \"start\": {\n",
      "                                \"functionInvocationValue\": {\n",
      "                                  \"functionName\": \"Date\",\n",
      "                                  \"arguments\": {\n",
      "                                    \"value\": {\n",
      "                                      \"constantValue\": \"2020-06-01\"\n",
      "                                    }\n",
      "                                  }\n",
      "                                }\n",
      "                              }\n",
      "                            }\n",
      "                          }\n",
      "                        }\n",
      "                      }\n",
      "                    }\n",
      "                  },\n",
      "                  \"rightField\": {\n",
      "                    \"constantValue\": \"system:time_start\"\n",
      "                  }\n",
      "                }\n",
      "              }\n",
      "            }\n",
      "          }\n",
      "        }\n",
      "      },\n",
      "      \"filter\": {\n",
      "        \"functionInvocationValue\": {\n",
      "          \"functionName\": \"Filter.lessThan\",\n",
      "          \"arguments\": {\n",
      "            \"leftField\": {\n",
      "              \"constantValue\": \"CLOUD_COVER\"\n",
      "            },\n",
      "            \"rightValue\": {\n",
      "              \"constantValue\": 10\n",
      "            }\n",
      "          }\n",
      "        }\n",
      "      }\n",
      "    }\n",
      "  }\n",
      "})\n"
     ]
    }
   ],
   "source": [
    "testLandsatImage = ee.ImageCollection('LANDSAT/LC08/C02/T1_L2').select(\n",
    "    ['SR_B2', 'SR_B3', 'SR_B4', 'SR_B5', 'SR_B6', 'SR_B7', 'ST_B10', 'QA_PIXEL'],\n",
    "    ['Blue', 'Green', 'Red', 'NIR', 'SWIR1', 'SWIR2', 'TIR', 'QA_PIXEL']\n",
    ").filterBounds(geometry).filterDate(dateRange).filter(ee.Filter.lt('CLOUD_COVER', 10))\n",
    "print(testLandsatImage)"
   ]
  },
  {
   "cell_type": "code",
   "execution_count": 74,
   "metadata": {},
   "outputs": [
    {
     "data": {
      "text/html": [
       "\n",
       "            <style>\n",
       "                .geemap-dark {\n",
       "                    --jp-widgets-color: white;\n",
       "                    --jp-widgets-label-color: white;\n",
       "                    --jp-ui-font-color1: white;\n",
       "                    --jp-layout-color2: #454545;\n",
       "                    background-color: #383838;\n",
       "                }\n",
       "\n",
       "                .geemap-dark .jupyter-button {\n",
       "                    --jp-layout-color3: #383838;\n",
       "                }\n",
       "\n",
       "                .geemap-colab {\n",
       "                    background-color: var(--colab-primary-surface-color, white);\n",
       "                }\n",
       "\n",
       "                .geemap-colab .jupyter-button {\n",
       "                    --jp-layout-color3: var(--colab-primary-surface-color, white);\n",
       "                }\n",
       "            </style>\n",
       "            "
      ],
      "text/plain": [
       "<IPython.core.display.HTML object>"
      ]
     },
     "metadata": {},
     "output_type": "display_data"
    }
   ],
   "source": [
    "band_name_exp = '(b(\"NIR\") - b(\"Red\")) / (b(\"NIR\") + b(\"Red\"))'\n",
    "band_name_img = testLandsatImage.first().expression(band_name_exp).rename('NDVI')"
   ]
  },
  {
   "cell_type": "code",
   "execution_count": 75,
   "metadata": {},
   "outputs": [
    {
     "data": {
      "text/html": [
       "\n",
       "            <style>\n",
       "                .geemap-dark {\n",
       "                    --jp-widgets-color: white;\n",
       "                    --jp-widgets-label-color: white;\n",
       "                    --jp-ui-font-color1: white;\n",
       "                    --jp-layout-color2: #454545;\n",
       "                    background-color: #383838;\n",
       "                }\n",
       "\n",
       "                .geemap-dark .jupyter-button {\n",
       "                    --jp-layout-color3: #383838;\n",
       "                }\n",
       "\n",
       "                .geemap-colab {\n",
       "                    background-color: var(--colab-primary-surface-color, white);\n",
       "                }\n",
       "\n",
       "                .geemap-colab .jupyter-button {\n",
       "                    --jp-layout-color3: var(--colab-primary-surface-color, white);\n",
       "                }\n",
       "            </style>\n",
       "            "
      ],
      "text/plain": [
       "<IPython.core.display.HTML object>"
      ]
     },
     "metadata": {},
     "output_type": "display_data"
    }
   ],
   "source": [
    "band_name_exp = '(-0.2848 * b(\"Blue\")) + (-0.2435 * b(\"Green\")) + (-0.5436 * b(\"Red\")) + (0.7243 * b(\"NIR\")) + (0.0840 * b(\"SWIR1\")) + (-0.1800 * b(\"SWIR2\"))'\n",
    "band_name_img = testLandsatImage.first().expression(band_name_exp).rename('NDVI')"
   ]
  },
  {
   "cell_type": "code",
   "execution_count": 76,
   "metadata": {},
   "outputs": [
    {
     "data": {
      "text/html": [
       "\n",
       "            <style>\n",
       "                .geemap-dark {\n",
       "                    --jp-widgets-color: white;\n",
       "                    --jp-widgets-label-color: white;\n",
       "                    --jp-ui-font-color1: white;\n",
       "                    --jp-layout-color2: #454545;\n",
       "                    background-color: #383838;\n",
       "                }\n",
       "\n",
       "                .geemap-dark .jupyter-button {\n",
       "                    --jp-layout-color3: #383838;\n",
       "                }\n",
       "\n",
       "                .geemap-colab {\n",
       "                    background-color: var(--colab-primary-surface-color, white);\n",
       "                }\n",
       "\n",
       "                .geemap-colab .jupyter-button {\n",
       "                    --jp-layout-color3: var(--colab-primary-surface-color, white);\n",
       "                }\n",
       "            </style>\n",
       "            "
      ],
      "text/plain": [
       "<IPython.core.display.HTML object>"
      ]
     },
     "metadata": {},
     "output_type": "display_data"
    }
   ],
   "source": [
    "band_name_exp = '(b(\"SWIR1\") - b(\"NIR\")) / (b(\"SWIR1\") + b(\"NIR\"))'\n",
    "ndbi = testLandsatImage.first().expression(band_name_exp).rename('ndbi')"
   ]
  },
  {
   "cell_type": "code",
   "execution_count": 77,
   "metadata": {},
   "outputs": [
    {
     "data": {
      "text/html": [
       "\n",
       "            <style>\n",
       "                .geemap-dark {\n",
       "                    --jp-widgets-color: white;\n",
       "                    --jp-widgets-label-color: white;\n",
       "                    --jp-ui-font-color1: white;\n",
       "                    --jp-layout-color2: #454545;\n",
       "                    background-color: #383838;\n",
       "                }\n",
       "\n",
       "                .geemap-dark .jupyter-button {\n",
       "                    --jp-layout-color3: #383838;\n",
       "                }\n",
       "\n",
       "                .geemap-colab {\n",
       "                    background-color: var(--colab-primary-surface-color, white);\n",
       "                }\n",
       "\n",
       "                .geemap-colab .jupyter-button {\n",
       "                    --jp-layout-color3: var(--colab-primary-surface-color, white);\n",
       "                }\n",
       "            </style>\n",
       "            "
      ],
      "text/plain": [
       "<IPython.core.display.HTML object>"
      ]
     },
     "metadata": {},
     "output_type": "display_data"
    }
   ],
   "source": [
    "band_name_exp = '(b(\"NIR\") - b(\"SWIR1\")) / (b(\"NIR\") + b(\"SWIR1\"))'\n",
    "ndmi = testLandsatImage.first().expression(band_name_exp).rename('ndmi')"
   ]
  },
  {
   "cell_type": "code",
   "execution_count": 78,
   "metadata": {},
   "outputs": [
    {
     "data": {
      "text/html": [
       "\n",
       "            <style>\n",
       "                .geemap-dark {\n",
       "                    --jp-widgets-color: white;\n",
       "                    --jp-widgets-label-color: white;\n",
       "                    --jp-ui-font-color1: white;\n",
       "                    --jp-layout-color2: #454545;\n",
       "                    background-color: #383838;\n",
       "                }\n",
       "\n",
       "                .geemap-dark .jupyter-button {\n",
       "                    --jp-layout-color3: #383838;\n",
       "                }\n",
       "\n",
       "                .geemap-colab {\n",
       "                    background-color: var(--colab-primary-surface-color, white);\n",
       "                }\n",
       "\n",
       "                .geemap-colab .jupyter-button {\n",
       "                    --jp-layout-color3: var(--colab-primary-surface-color, white);\n",
       "                }\n",
       "            </style>\n",
       "            "
      ],
      "text/plain": [
       "<IPython.core.display.HTML object>"
      ]
     },
     "metadata": {},
     "output_type": "display_data"
    }
   ],
   "source": [
    "band_name_exp = '(b(\"Green\") - b(\"SWIR1\")) / (b(\"Green\") + b(\"SWIR1\"))'\n",
    "ndwi = testLandsatImage.first().expression(band_name_exp).rename('ndwi')"
   ]
  },
  {
   "cell_type": "code",
   "execution_count": 79,
   "metadata": {},
   "outputs": [
    {
     "data": {
      "text/html": [
       "\n",
       "            <style>\n",
       "                .geemap-dark {\n",
       "                    --jp-widgets-color: white;\n",
       "                    --jp-widgets-label-color: white;\n",
       "                    --jp-ui-font-color1: white;\n",
       "                    --jp-layout-color2: #454545;\n",
       "                    background-color: #383838;\n",
       "                }\n",
       "\n",
       "                .geemap-dark .jupyter-button {\n",
       "                    --jp-layout-color3: #383838;\n",
       "                }\n",
       "\n",
       "                .geemap-colab {\n",
       "                    background-color: var(--colab-primary-surface-color, white);\n",
       "                }\n",
       "\n",
       "                .geemap-colab .jupyter-button {\n",
       "                    --jp-layout-color3: var(--colab-primary-surface-color, white);\n",
       "                }\n",
       "            </style>\n",
       "            "
      ],
      "text/plain": [
       "<IPython.core.display.HTML object>"
      ]
     },
     "metadata": {},
     "output_type": "display_data"
    }
   ],
   "source": [
    "dataset = ee.ImageCollection('MODIS/061/MCD64A1').filter(ee.Filter.date('2000-11-01', '2024-11-01'));\n",
    "burnedArea = dataset.select('BurnDate');"
   ]
  },
  {
   "cell_type": "code",
   "execution_count": 83,
   "metadata": {},
   "outputs": [
    {
     "data": {
      "text/html": [
       "\n",
       "            <style>\n",
       "                .geemap-dark {\n",
       "                    --jp-widgets-color: white;\n",
       "                    --jp-widgets-label-color: white;\n",
       "                    --jp-ui-font-color1: white;\n",
       "                    --jp-layout-color2: #454545;\n",
       "                    background-color: #383838;\n",
       "                }\n",
       "\n",
       "                .geemap-dark .jupyter-button {\n",
       "                    --jp-layout-color3: #383838;\n",
       "                }\n",
       "\n",
       "                .geemap-colab {\n",
       "                    background-color: var(--colab-primary-surface-color, white);\n",
       "                }\n",
       "\n",
       "                .geemap-colab .jupyter-button {\n",
       "                    --jp-layout-color3: var(--colab-primary-surface-color, white);\n",
       "                }\n",
       "            </style>\n",
       "            "
      ],
      "text/plain": [
       "<IPython.core.display.HTML object>"
      ]
     },
     "metadata": {},
     "output_type": "display_data"
    },
    {
     "data": {
      "application/vnd.jupyter.widget-view+json": {
       "model_id": "21f71be8f15946c1a8f7ee896855a958",
       "version_major": 2,
       "version_minor": 0
      },
      "text/plain": [
       "Map(center=[68.27931430329704, -132.89380539556925], controls=(WidgetControl(options=['position', 'transparent…"
      ]
     },
     "execution_count": 83,
     "metadata": {},
     "output_type": "execute_result"
    }
   ],
   "source": [
    "Map = geemap.Map()\n",
    "Map.centerObject(testLandsatImage, zoom = 8)\n",
    "\n",
    "Map.addLayer(testLandsatImage, {}, 'landsat')\n",
    "Map.addLayer(gvi, {'min': -5253.5, 'max': 51.7, 'palette': 'Greens'}, 'gvi')\n",
    "Map.addLayer(ndvi, {'min': 0, 'max': 0.2, 'palette': 'Greens'}, 'ndvi', False)\n",
    "Map.addLayer(ndbi, {'min': 0, 'max': 0.2, 'palette': 'Reds'}, 'ndbi')\n",
    "Map.addLayer(ndbi, {'min': -0.1, 'max': 0, 'palette': 'Blues'}, 'ndmi')\n",
    "Map.addLayer(ndwi, {'min': -0.2, 'max': -0.1, 'palette': 'Purples'}, 'ndwi')\n",
    "Map.addLayer(burnedArea, {}, 'modis precomp burned area', False)\n",
    "\n",
    "Map"
   ]
  },
  {
   "cell_type": "code",
   "execution_count": null,
   "metadata": {},
   "outputs": [],
   "source": []
  }
 ],
 "metadata": {
  "kernelspec": {
   "display_name": ".venv",
   "language": "python",
   "name": "python3"
  },
  "language_info": {
   "codemirror_mode": {
    "name": "ipython",
    "version": 3
   },
   "file_extension": ".py",
   "mimetype": "text/x-python",
   "name": "python",
   "nbconvert_exporter": "python",
   "pygments_lexer": "ipython3",
   "version": "3.13.1"
  }
 },
 "nbformat": 4,
 "nbformat_minor": 2
}
